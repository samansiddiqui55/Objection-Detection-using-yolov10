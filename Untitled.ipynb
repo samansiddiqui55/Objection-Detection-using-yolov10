{
 "cells": [
  {
   "cell_type": "code",
   "execution_count": 1,
   "id": "5c1f126d-d901-4cf9-9245-98aebecfec7b",
   "metadata": {},
   "outputs": [
    {
     "name": "stdout",
     "output_type": "stream",
     "text": [
      "Python 3.12.2\n"
     ]
    }
   ],
   "source": [
    "!python --version"
   ]
  },
  {
   "cell_type": "code",
   "execution_count": 3,
   "id": "f523b3be-3d85-487e-860f-d5b2bcda2771",
   "metadata": {},
   "outputs": [
    {
     "name": "stdout",
     "output_type": "stream",
     "text": [
      "Cloning into 'yolov10'...\n",
      "remote: Enumerating objects: 20332, done.\u001b[K\n",
      "remote: Total 20332 (delta 0), reused 0 (delta 0), pack-reused 20332 (from 1)\u001b[K\n",
      "Receiving objects: 100% (20332/20332), 11.09 MiB | 6.14 MiB/s, done.\n",
      "Resolving deltas: 100% (14352/14352), done.\n"
     ]
    }
   ],
   "source": [
    "!git clone https://github.com/THU-MIG/yolov10.git"
   ]
  },
  {
   "cell_type": "code",
   "execution_count": 5,
   "id": "f75b0667-5035-427e-90e1-e133f7f15031",
   "metadata": {},
   "outputs": [
    {
     "name": "stdout",
     "output_type": "stream",
     "text": [
      "/Users/samansiddiqui/Desktop/yolov10/yolov10\n"
     ]
    }
   ],
   "source": [
    "cd yolov10"
   ]
  },
  {
   "cell_type": "code",
   "execution_count": 7,
   "id": "2ee3fd42-e88a-4290-a90d-c68d13c278b8",
   "metadata": {},
   "outputs": [
    {
     "name": "stdout",
     "output_type": "stream",
     "text": [
      "Processing /Users/samansiddiqui/Desktop/yolov10/yolov10\n",
      "  Installing build dependencies ... \u001b[?25ldone\n",
      "\u001b[?25h  Getting requirements to build wheel ... \u001b[?25ldone\n",
      "\u001b[?25h  Preparing metadata (pyproject.toml) ... \u001b[?25ldone\n",
      "\u001b[?25hRequirement already satisfied: matplotlib>=3.3.0 in /opt/anaconda3/lib/python3.12/site-packages (from ultralytics==8.1.34) (3.8.4)\n",
      "Requirement already satisfied: opencv-python>=4.6.0 in /opt/anaconda3/lib/python3.12/site-packages (from ultralytics==8.1.34) (4.10.0.84)\n",
      "Requirement already satisfied: pillow>=7.1.2 in /opt/anaconda3/lib/python3.12/site-packages (from ultralytics==8.1.34) (10.3.0)\n",
      "Requirement already satisfied: pyyaml>=5.3.1 in /opt/anaconda3/lib/python3.12/site-packages (from ultralytics==8.1.34) (6.0.1)\n",
      "Requirement already satisfied: requests>=2.23.0 in /opt/anaconda3/lib/python3.12/site-packages (from ultralytics==8.1.34) (2.32.2)\n",
      "Requirement already satisfied: scipy>=1.4.1 in /opt/anaconda3/lib/python3.12/site-packages (from ultralytics==8.1.34) (1.13.1)\n",
      "Requirement already satisfied: torch>=1.8.0 in /opt/anaconda3/lib/python3.12/site-packages (from ultralytics==8.1.34) (2.5.1)\n",
      "Requirement already satisfied: torchvision>=0.9.0 in /opt/anaconda3/lib/python3.12/site-packages (from ultralytics==8.1.34) (0.20.1)\n",
      "Requirement already satisfied: tqdm>=4.64.0 in /opt/anaconda3/lib/python3.12/site-packages (from ultralytics==8.1.34) (4.66.4)\n",
      "Requirement already satisfied: psutil in /opt/anaconda3/lib/python3.12/site-packages (from ultralytics==8.1.34) (5.9.0)\n",
      "Requirement already satisfied: py-cpuinfo in /opt/anaconda3/lib/python3.12/site-packages (from ultralytics==8.1.34) (9.0.0)\n",
      "Requirement already satisfied: thop>=0.1.1 in /opt/anaconda3/lib/python3.12/site-packages (from ultralytics==8.1.34) (0.1.1.post2209072238)\n",
      "Requirement already satisfied: pandas>=1.1.4 in /opt/anaconda3/lib/python3.12/site-packages (from ultralytics==8.1.34) (2.2.2)\n",
      "Requirement already satisfied: seaborn>=0.11.0 in /opt/anaconda3/lib/python3.12/site-packages (from ultralytics==8.1.34) (0.13.2)\n",
      "Requirement already satisfied: contourpy>=1.0.1 in /opt/anaconda3/lib/python3.12/site-packages (from matplotlib>=3.3.0->ultralytics==8.1.34) (1.2.0)\n",
      "Requirement already satisfied: cycler>=0.10 in /opt/anaconda3/lib/python3.12/site-packages (from matplotlib>=3.3.0->ultralytics==8.1.34) (0.11.0)\n",
      "Requirement already satisfied: fonttools>=4.22.0 in /opt/anaconda3/lib/python3.12/site-packages (from matplotlib>=3.3.0->ultralytics==8.1.34) (4.51.0)\n",
      "Requirement already satisfied: kiwisolver>=1.3.1 in /opt/anaconda3/lib/python3.12/site-packages (from matplotlib>=3.3.0->ultralytics==8.1.34) (1.4.4)\n",
      "Requirement already satisfied: numpy>=1.21 in /opt/anaconda3/lib/python3.12/site-packages (from matplotlib>=3.3.0->ultralytics==8.1.34) (1.26.4)\n",
      "Requirement already satisfied: packaging>=20.0 in /opt/anaconda3/lib/python3.12/site-packages (from matplotlib>=3.3.0->ultralytics==8.1.34) (23.2)\n",
      "Requirement already satisfied: pyparsing>=2.3.1 in /opt/anaconda3/lib/python3.12/site-packages (from matplotlib>=3.3.0->ultralytics==8.1.34) (3.0.9)\n",
      "Requirement already satisfied: python-dateutil>=2.7 in /opt/anaconda3/lib/python3.12/site-packages (from matplotlib>=3.3.0->ultralytics==8.1.34) (2.9.0.post0)\n",
      "Requirement already satisfied: pytz>=2020.1 in /opt/anaconda3/lib/python3.12/site-packages (from pandas>=1.1.4->ultralytics==8.1.34) (2024.1)\n",
      "Requirement already satisfied: tzdata>=2022.7 in /opt/anaconda3/lib/python3.12/site-packages (from pandas>=1.1.4->ultralytics==8.1.34) (2023.3)\n",
      "Requirement already satisfied: charset-normalizer<4,>=2 in /opt/anaconda3/lib/python3.12/site-packages (from requests>=2.23.0->ultralytics==8.1.34) (2.0.4)\n",
      "Requirement already satisfied: idna<4,>=2.5 in /opt/anaconda3/lib/python3.12/site-packages (from requests>=2.23.0->ultralytics==8.1.34) (3.7)\n",
      "Requirement already satisfied: urllib3<3,>=1.21.1 in /opt/anaconda3/lib/python3.12/site-packages (from requests>=2.23.0->ultralytics==8.1.34) (2.2.2)\n",
      "Requirement already satisfied: certifi>=2017.4.17 in /opt/anaconda3/lib/python3.12/site-packages (from requests>=2.23.0->ultralytics==8.1.34) (2025.1.31)\n",
      "Requirement already satisfied: filelock in /opt/anaconda3/lib/python3.12/site-packages (from torch>=1.8.0->ultralytics==8.1.34) (3.13.1)\n",
      "Requirement already satisfied: typing-extensions>=4.8.0 in /opt/anaconda3/lib/python3.12/site-packages (from torch>=1.8.0->ultralytics==8.1.34) (4.11.0)\n",
      "Requirement already satisfied: networkx in /opt/anaconda3/lib/python3.12/site-packages (from torch>=1.8.0->ultralytics==8.1.34) (3.2.1)\n",
      "Requirement already satisfied: jinja2 in /opt/anaconda3/lib/python3.12/site-packages (from torch>=1.8.0->ultralytics==8.1.34) (3.1.4)\n",
      "Requirement already satisfied: fsspec in /opt/anaconda3/lib/python3.12/site-packages (from torch>=1.8.0->ultralytics==8.1.34) (2024.3.1)\n",
      "Requirement already satisfied: setuptools in /opt/anaconda3/lib/python3.12/site-packages (from torch>=1.8.0->ultralytics==8.1.34) (69.5.1)\n",
      "Requirement already satisfied: sympy==1.13.1 in /opt/anaconda3/lib/python3.12/site-packages (from torch>=1.8.0->ultralytics==8.1.34) (1.13.1)\n",
      "Requirement already satisfied: mpmath<1.4,>=1.1.0 in /opt/anaconda3/lib/python3.12/site-packages (from sympy==1.13.1->torch>=1.8.0->ultralytics==8.1.34) (1.3.0)\n",
      "Requirement already satisfied: six>=1.5 in /opt/anaconda3/lib/python3.12/site-packages (from python-dateutil>=2.7->matplotlib>=3.3.0->ultralytics==8.1.34) (1.16.0)\n",
      "Requirement already satisfied: MarkupSafe>=2.0 in /opt/anaconda3/lib/python3.12/site-packages (from jinja2->torch>=1.8.0->ultralytics==8.1.34) (2.1.3)\n",
      "Building wheels for collected packages: ultralytics\n",
      "  Building wheel for ultralytics (pyproject.toml) ... \u001b[?25ldone\n",
      "\u001b[?25h  Created wheel for ultralytics: filename=ultralytics-8.1.34-py3-none-any.whl size=731422 sha256=fafcdb2ffad232f0344c5e9d3d99c4346cd29a390c74732bb6a1b643869962aa\n",
      "  Stored in directory: /private/var/folders/b3/q_0gp_392l913z56sxjsv7rm0000gn/T/pip-ephem-wheel-cache-xl6mf7s3/wheels/8a/cb/b8/1f4c205c8ba63d066809c07de8603adf0d799d20667e4a4f61\n",
      "Successfully built ultralytics\n",
      "Installing collected packages: ultralytics\n",
      "  Attempting uninstall: ultralytics\n",
      "    Found existing installation: ultralytics 8.1.34\n",
      "    Uninstalling ultralytics-8.1.34:\n",
      "      Successfully uninstalled ultralytics-8.1.34\n",
      "Successfully installed ultralytics-8.1.34\n"
     ]
    }
   ],
   "source": [
    "!pip install . "
   ]
  },
  {
   "cell_type": "code",
   "execution_count": 9,
   "id": "42052378-7124-4705-8c38-6cc6395558dd",
   "metadata": {},
   "outputs": [
    {
     "name": "stdout",
     "output_type": "stream",
     "text": [
      "Downloaded /Users/samansiddiqui/Desktop/yolov10/yolov10/weights/yolov10n.pt\n",
      "Downloaded /Users/samansiddiqui/Desktop/yolov10/yolov10/weights/yolov10s.pt\n",
      "Downloaded /Users/samansiddiqui/Desktop/yolov10/yolov10/weights/yolov10m.pt\n",
      "Downloaded /Users/samansiddiqui/Desktop/yolov10/yolov10/weights/yolov10b.pt\n",
      "Downloaded /Users/samansiddiqui/Desktop/yolov10/yolov10/weights/yolov10x.pt\n",
      "Downloaded /Users/samansiddiqui/Desktop/yolov10/yolov10/weights/yolov10l.pt\n"
     ]
    }
   ],
   "source": [
    "import os\n",
    "import urllib.request\n",
    "\n",
    "# Create a directory for the weights in the current working directory\n",
    "weights_dir = os.path.join(os.getcwd(), \"weights\")\n",
    "os.makedirs(weights_dir, exist_ok=True)\n",
    "\n",
    "# URLs of the weight files\n",
    "urls = [\n",
    "    \"https://github.com/jameslahm/yolov10/releases/download/v1.0/yolov10n.pt\",\n",
    "    \"https://github.com/jameslahm/yolov10/releases/download/v1.0/yolov10s.pt\",\n",
    "    \"https://github.com/jameslahm/yolov10/releases/download/v1.0/yolov10m.pt\",\n",
    "    \"https://github.com/jameslahm/yolov10/releases/download/v1.0/yolov10b.pt\",\n",
    "    \"https://github.com/jameslahm/yolov10/releases/download/v1.0/yolov10x.pt\",\n",
    "    \"https://github.com/jameslahm/yolov10/releases/download/v1.0/yolov10l.pt\"\n",
    "]\n",
    "\n",
    "# Download each file\n",
    "for url in urls:\n",
    "    file_name = os.path.join(weights_dir, os.path.basename(url))\n",
    "    urllib.request.urlretrieve(url, file_name)\n",
    "    print(f\"Downloaded {file_name}\")"
   ]
  },
  {
   "cell_type": "code",
   "execution_count": null,
   "id": "137f1ec2-4b64-49db-8463-39252aa0a449",
   "metadata": {
    "scrolled": true
   },
   "outputs": [
    {
     "name": "stdout",
     "output_type": "stream",
     "text": [
      "/opt/anaconda3/lib/python3.12/site-packages/ultralytics/nn/tasks.py:733: FutureWarning: You are using `torch.load` with `weights_only=False` (the current default value), which uses the default pickle module implicitly. It is possible to construct malicious pickle data which will execute arbitrary code during unpickling (See https://github.com/pytorch/pytorch/blob/main/SECURITY.md#untrusted-models for more details). In a future release, the default value for `weights_only` will be flipped to `True`. This limits the functions that could be executed during unpickling. Arbitrary objects will no longer be allowed to be loaded via this mode unless they are explicitly allowlisted by the user via `torch.serialization.add_safe_globals`. We recommend you start setting `weights_only=True` for any use case where you don't have full control of the loaded file. Please open an issue on GitHub for any issues related to this experimental feature.\n",
      "  ckpt = torch.load(file, map_location=\"cpu\")\n",
      "Ultralytics YOLOv8.1.34 🚀 Python-3.12.2 torch-2.5.1 CPU (Apple M1)\n",
      "\u001b[34m\u001b[1mengine/trainer: \u001b[0mtask=detect, mode=train, model=weights/yolov10n.pt, data=dataset.yaml, epochs=20, time=None, patience=100, batch=16, imgsz=640, save=True, save_period=-1, val_period=1, cache=False, device=None, workers=8, project=None, name=train7, exist_ok=False, pretrained=True, optimizer=auto, verbose=True, seed=0, deterministic=True, single_cls=False, rect=False, cos_lr=False, close_mosaic=10, resume=False, amp=True, fraction=1.0, profile=False, freeze=None, multi_scale=False, overlap_mask=True, mask_ratio=4, dropout=0.0, val=True, split=val, save_json=False, save_hybrid=False, conf=None, iou=0.7, max_det=300, half=False, dnn=False, plots=True, source=None, vid_stride=1, stream_buffer=False, visualize=False, augment=False, agnostic_nms=False, classes=None, retina_masks=False, embed=None, show=False, save_frames=False, save_txt=False, save_conf=False, save_crop=False, show_labels=True, show_conf=True, show_boxes=True, line_width=None, format=torchscript, keras=False, optimize=False, int8=False, dynamic=False, simplify=False, opset=None, workspace=4, nms=False, lr0=0.01, lrf=0.01, momentum=0.937, weight_decay=0.0005, warmup_epochs=3.0, warmup_momentum=0.8, warmup_bias_lr=0.1, box=7.5, cls=0.5, dfl=1.5, pose=12.0, kobj=1.0, label_smoothing=0.0, nbs=64, hsv_h=0.015, hsv_s=0.7, hsv_v=0.4, degrees=0.0, translate=0.1, scale=0.5, shear=0.0, perspective=0.0, flipud=0.0, fliplr=0.5, bgr=0.0, mosaic=1.0, mixup=0.0, copy_paste=0.0, auto_augment=randaugment, erasing=0.4, crop_fraction=1.0, cfg=None, tracker=botsort.yaml, save_dir=runs/detect/train7\n",
      "Overriding model.yaml nc=80 with nc=1\n",
      "\n",
      "                   from  n    params  module                                       arguments                     \n",
      "  0                  -1  1       464  ultralytics.nn.modules.conv.Conv             [3, 16, 3, 2]                 \n",
      "  1                  -1  1      4672  ultralytics.nn.modules.conv.Conv             [16, 32, 3, 2]                \n",
      "  2                  -1  1      7360  ultralytics.nn.modules.block.C2f             [32, 32, 1, True]             \n",
      "  3                  -1  1     18560  ultralytics.nn.modules.conv.Conv             [32, 64, 3, 2]                \n",
      "  4                  -1  2     49664  ultralytics.nn.modules.block.C2f             [64, 64, 2, True]             \n",
      "  5                  -1  1      9856  ultralytics.nn.modules.block.SCDown          [64, 128, 3, 2]               \n",
      "  6                  -1  2    197632  ultralytics.nn.modules.block.C2f             [128, 128, 2, True]           \n",
      "  7                  -1  1     36096  ultralytics.nn.modules.block.SCDown          [128, 256, 3, 2]              \n",
      "  8                  -1  1    460288  ultralytics.nn.modules.block.C2f             [256, 256, 1, True]           \n",
      "  9                  -1  1    164608  ultralytics.nn.modules.block.SPPF            [256, 256, 5]                 \n",
      " 10                  -1  1    249728  ultralytics.nn.modules.block.PSA             [256, 256]                    \n",
      " 11                  -1  1         0  torch.nn.modules.upsampling.Upsample         [None, 2, 'nearest']          \n",
      " 12             [-1, 6]  1         0  ultralytics.nn.modules.conv.Concat           [1]                           \n",
      " 13                  -1  1    148224  ultralytics.nn.modules.block.C2f             [384, 128, 1]                 \n",
      " 14                  -1  1         0  torch.nn.modules.upsampling.Upsample         [None, 2, 'nearest']          \n",
      " 15             [-1, 4]  1         0  ultralytics.nn.modules.conv.Concat           [1]                           \n",
      " 16                  -1  1     37248  ultralytics.nn.modules.block.C2f             [192, 64, 1]                  \n",
      " 17                  -1  1     36992  ultralytics.nn.modules.conv.Conv             [64, 64, 3, 2]                \n",
      " 18            [-1, 13]  1         0  ultralytics.nn.modules.conv.Concat           [1]                           \n",
      " 19                  -1  1    123648  ultralytics.nn.modules.block.C2f             [192, 128, 1]                 \n",
      " 20                  -1  1     18048  ultralytics.nn.modules.block.SCDown          [128, 128, 3, 2]              \n",
      " 21            [-1, 10]  1         0  ultralytics.nn.modules.conv.Concat           [1]                           \n",
      " 22                  -1  1    282624  ultralytics.nn.modules.block.C2fCIB          [384, 256, 1, True, True]     \n",
      " 23        [16, 19, 22]  1    861718  ultralytics.nn.modules.head.v10Detect        [1, [64, 128, 256]]           \n",
      "YOLOv10n summary: 385 layers, 2707430 parameters, 2707414 gradients, 8.4 GFLOPs\n",
      "\n",
      "Transferred 493/595 items from pretrained weights\n",
      "\u001b[34m\u001b[1mTensorBoard: \u001b[0mStart with 'tensorboard --logdir runs/detect/train7', view at http://localhost:6006/\n",
      "Freezing layer 'model.23.dfl.conv.weight'\n",
      "/opt/anaconda3/lib/python3.12/site-packages/ultralytics/engine/trainer.py:276: FutureWarning: `torch.cuda.amp.GradScaler(args...)` is deprecated. Please use `torch.amp.GradScaler('cuda', args...)` instead.\n",
      "  self.scaler = torch.cuda.amp.GradScaler(enabled=self.amp)\n",
      "\u001b[34m\u001b[1mtrain: \u001b[0mScanning /Users/samansiddiqui/Desktop/yolov10/custom_dataset/train/labels\u001b[0m\n",
      "\u001b[34m\u001b[1mval: \u001b[0mScanning /Users/samansiddiqui/Desktop/yolov10/custom_dataset/valid/labels.c\u001b[0m\n",
      "Plotting labels to runs/detect/train7/labels.jpg... \n",
      "\u001b[34m\u001b[1moptimizer:\u001b[0m 'optimizer=auto' found, ignoring 'lr0=0.01' and 'momentum=0.937' and determining best 'optimizer', 'lr0' and 'momentum' automatically... \n",
      "\u001b[34m\u001b[1moptimizer:\u001b[0m AdamW(lr=0.002, momentum=0.9) with parameter groups 95 weight(decay=0.0), 108 weight(decay=0.0005), 107 bias(decay=0.0)\n",
      "\u001b[34m\u001b[1mTensorBoard: \u001b[0mmodel graph visualization added ✅\n",
      "Image sizes 640 train, 640 val\n",
      "Using 0 dataloader workers\n",
      "Logging results to \u001b[1mruns/detect/train7\u001b[0m\n",
      "Starting training for 20 epochs...\n",
      "\n",
      "      Epoch    GPU_mem     box_om     cls_om     dfl_om     box_oo     cls_oo     dfl_oo  Instances       Size\n",
      "       1/20         0G      1.553       3.58      1.327      1.529      7.849   \n",
      "                 Class     Images  Instances      Box(P          R      mAP50  m\n",
      "                   all         60         64    0.00261      0.734      0.197      0.102\n",
      "\n",
      "      Epoch    GPU_mem     box_om     cls_om     dfl_om     box_oo     cls_oo     dfl_oo  Instances       Size\n",
      "       2/20         0G      1.586       2.57      1.299      1.479      7.017   \n",
      "                 Class     Images  Instances      Box(P          R      mAP50  m\n",
      "                   all         60         64     0.0025      0.703      0.111     0.0416\n",
      "\n",
      "      Epoch    GPU_mem     box_om     cls_om     dfl_om     box_oo     cls_oo     dfl_oo  Instances       Size\n",
      "       3/20         0G      1.606      2.264      1.344      1.522      6.056   \n",
      "                 Class     Images  Instances      Box(P          R      mAP50  m\n",
      "                   all         60         64    0.00267       0.75     0.0755     0.0198\n",
      "\n",
      "      Epoch    GPU_mem     box_om     cls_om     dfl_om     box_oo     cls_oo     dfl_oo  Instances       Size\n",
      "       4/20         0G       1.65       2.14      1.362      1.632      5.694   \n",
      "                 Class     Images  Instances      Box(P          R      mAP50  m\n",
      "                   all         60         64    0.00256      0.719     0.0559     0.0216\n",
      "\n",
      "      Epoch    GPU_mem     box_om     cls_om     dfl_om     box_oo     cls_oo     dfl_oo  Instances       Size\n",
      "       5/20         0G      1.588      2.018      1.281      1.668      5.272   \n",
      "                 Class     Images  Instances      Box(P          R      mAP50  m\n",
      "                   all         60         64      0.456      0.281      0.299      0.158\n",
      "\n",
      "      Epoch    GPU_mem     box_om     cls_om     dfl_om     box_oo     cls_oo     dfl_oo  Instances       Size\n",
      "       6/20         0G      1.617      1.999      1.319      1.604      5.115   \n",
      "                 Class     Images  Instances      Box(P          R      mAP50  m\n",
      "                   all         60         64      0.248     0.0781      0.116     0.0445\n",
      "\n",
      "      Epoch    GPU_mem     box_om     cls_om     dfl_om     box_oo     cls_oo     dfl_oo  Instances       Size\n",
      "       7/20         0G      1.645      1.913      1.366      1.663      4.593   \n",
      "                 Class     Images  Instances      Box(P          R      mAP50  m\n",
      "                   all         60         64      0.554      0.117      0.215     0.0946\n",
      "\n",
      "      Epoch    GPU_mem     box_om     cls_om     dfl_om     box_oo     cls_oo     dfl_oo  Instances       Size\n",
      "       8/20         0G      1.567      1.907      1.328      1.645      4.658   \n",
      "                 Class     Images  Instances      Box(P          R      mAP50  m\n",
      "                   all         60         64      0.566      0.285      0.319      0.149\n",
      "\n",
      "      Epoch    GPU_mem     box_om     cls_om     dfl_om     box_oo     cls_oo     dfl_oo  Instances       Size\n",
      "       9/20         0G      1.567      1.736      1.322      1.592      4.119   \n",
      "                 Class     Images  Instances      Box(P          R      mAP50  m\n",
      "                   all         60         64      0.436      0.328      0.322      0.171\n",
      "\n",
      "      Epoch    GPU_mem     box_om     cls_om     dfl_om     box_oo     cls_oo     dfl_oo  Instances       Size\n",
      "      10/20         0G      1.539      1.695      1.288      1.541      3.849   \n",
      "                 Class     Images  Instances      Box(P          R      mAP50  m\n",
      "                   all         60         64      0.503      0.391      0.424      0.216\n",
      "Closing dataloader mosaic\n",
      "\n",
      "      Epoch    GPU_mem     box_om     cls_om     dfl_om     box_oo     cls_oo     dfl_oo  Instances       Size\n",
      "      11/20         0G      1.496      2.025        1.3      1.516      5.509   \n",
      "                 Class     Images  Instances      Box(P          R      mAP50  m\n",
      "                   all         60         64      0.744      0.328       0.49      0.242\n",
      "\n",
      "      Epoch    GPU_mem     box_om     cls_om     dfl_om     box_oo     cls_oo     dfl_oo  Instances       Size\n",
      "      12/20         0G      1.508      1.876      1.279      1.564      5.093   \n",
      "                 Class     Images  Instances      Box(P          R      mAP50  m\n",
      "                   all         60         64      0.647      0.531      0.518      0.264\n",
      "\n",
      "      Epoch    GPU_mem     box_om     cls_om     dfl_om     box_oo     cls_oo     dfl_oo  Instances       Size\n",
      "      13/20         0G       1.46      1.799      1.274      1.591      4.762   \n",
      "                 Class     Images  Instances      Box(P          R      mAP50  m\n",
      "                   all         60         64      0.593      0.516      0.507      0.235\n",
      "\n",
      "      Epoch    GPU_mem     box_om     cls_om     dfl_om     box_oo     cls_oo     dfl_oo  Instances       Size\n",
      "      14/20         0G      1.441      1.762      1.269      1.482      4.504   \n",
      "                 Class     Images  Instances      Box(P          R      mAP50  m\n",
      "                   all         60         64      0.494      0.562      0.527       0.26\n",
      "\n",
      "      Epoch    GPU_mem     box_om     cls_om     dfl_om     box_oo     cls_oo     dfl_oo  Instances       Size\n",
      "      15/20         0G      1.509      1.704      1.301      1.596      4.223   \n",
      "                 Class     Images  Instances      Box(P          R      mAP50  m\n",
      "                   all         60         64      0.579      0.703       0.64      0.333\n",
      "\n",
      "      Epoch    GPU_mem     box_om     cls_om     dfl_om     box_oo     cls_oo     dfl_oo  Instances       Size\n",
      "      16/20         0G      1.485      1.638       1.28       1.54      4.133   \n",
      "                 Class     Images  Instances      Box(P          R      mAP50  m\n",
      "                   all         60         64      0.553      0.609      0.638      0.332\n",
      "\n",
      "      Epoch    GPU_mem     box_om     cls_om     dfl_om     box_oo     cls_oo     dfl_oo  Instances       Size\n",
      "      17/20         0G       1.37      1.566       1.23      1.407      3.815   \n",
      "                 Class     Images  Instances      Box(P          R      mAP50  m\n",
      "                   all         60         64      0.479      0.609      0.575      0.299\n",
      "\n",
      "      Epoch    GPU_mem     box_om     cls_om     dfl_om     box_oo     cls_oo     dfl_oo  Instances       Size\n",
      "      18/20         0G       1.38      1.527      1.241      1.408      3.928   "
     ]
    }
   ],
   "source": [
    "!yolo task=detect mode=train epochs=20 batch=16 plots=True model=weights/yolov10n.pt data=dataset.yaml"
   ]
  },
  {
   "cell_type": "code",
   "execution_count": 7,
   "id": "bcda647b-f98c-4281-8f6d-0d329bae3f7e",
   "metadata": {},
   "outputs": [
    {
     "name": "stdout",
     "output_type": "stream",
     "text": [
      "/opt/anaconda3/lib/python3.12/site-packages/ultralytics/nn/tasks.py:733: FutureWarning: You are using `torch.load` with `weights_only=False` (the current default value), which uses the default pickle module implicitly. It is possible to construct malicious pickle data which will execute arbitrary code during unpickling (See https://github.com/pytorch/pytorch/blob/main/SECURITY.md#untrusted-models for more details). In a future release, the default value for `weights_only` will be flipped to `True`. This limits the functions that could be executed during unpickling. Arbitrary objects will no longer be allowed to be loaded via this mode unless they are explicitly allowlisted by the user via `torch.serialization.add_safe_globals`. We recommend you start setting `weights_only=True` for any use case where you don't have full control of the loaded file. Please open an issue on GitHub for any issues related to this experimental feature.\n",
      "  ckpt = torch.load(file, map_location=\"cpu\")\n",
      "Ultralytics YOLOv8.1.34 🚀 Python-3.12.2 torch-2.5.1 CPU (Apple M1)\n",
      "YOLOv10n summary (fused): 285 layers, 2694806 parameters, 0 gradients, 8.2 GFLOPs\n",
      "\n",
      "image 1/1 /Users/samansiddiqui/Desktop/yolov10/test_images_1/veh2.jpg: 512x640 (no detections), 49.0ms\n",
      "Speed: 3.0ms preprocess, 49.0ms inference, 6.5ms postprocess per image at shape (1, 3, 512, 640)\n",
      "Results saved to \u001b[1mruns/detect/predict\u001b[0m\n",
      "💡 Learn more at https://docs.ultralytics.com/modes/predict\n"
     ]
    }
   ],
   "source": [
    "!yolo task=detect mode=predict conf=0.25 save=True model=runs/detect/train7/weights/best.pt source=test_images_1/veh2.jpg"
   ]
  },
  {
   "cell_type": "code",
   "execution_count": 11,
   "id": "ea46b220-8fd0-4e49-8fb8-7745518c5160",
   "metadata": {},
   "outputs": [
    {
     "name": "stdout",
     "output_type": "stream",
     "text": [
      "/opt/anaconda3/lib/python3.12/site-packages/ultralytics/nn/tasks.py:733: FutureWarning: You are using `torch.load` with `weights_only=False` (the current default value), which uses the default pickle module implicitly. It is possible to construct malicious pickle data which will execute arbitrary code during unpickling (See https://github.com/pytorch/pytorch/blob/main/SECURITY.md#untrusted-models for more details). In a future release, the default value for `weights_only` will be flipped to `True`. This limits the functions that could be executed during unpickling. Arbitrary objects will no longer be allowed to be loaded via this mode unless they are explicitly allowlisted by the user via `torch.serialization.add_safe_globals`. We recommend you start setting `weights_only=True` for any use case where you don't have full control of the loaded file. Please open an issue on GitHub for any issues related to this experimental feature.\n",
      "  ckpt = torch.load(file, map_location=\"cpu\")\n",
      "Ultralytics YOLOv8.1.34 🚀 Python-3.12.2 torch-2.5.1 CPU (Apple M1)\n",
      "YOLOv10n summary (fused): 285 layers, 2694806 parameters, 0 gradients, 8.2 GFLOPs\n",
      "\n",
      "Traceback (most recent call last):\n",
      "  File \"/opt/anaconda3/bin/yolo\", line 8, in <module>\n",
      "    sys.exit(entrypoint())\n",
      "             ^^^^^^^^^^^^\n",
      "  File \"/opt/anaconda3/lib/python3.12/site-packages/ultralytics/cfg/__init__.py\", line 594, in entrypoint\n",
      "    getattr(model, mode)(**overrides)  # default args from model\n",
      "    ^^^^^^^^^^^^^^^^^^^^^^^^^^^^^^^^^\n",
      "  File \"/opt/anaconda3/lib/python3.12/site-packages/ultralytics/engine/model.py\", line 441, in predict\n",
      "    return self.predictor.predict_cli(source=source) if is_cli else self.predictor(source=source, stream=stream)\n",
      "           ^^^^^^^^^^^^^^^^^^^^^^^^^^^^^^^^^^^^^^^^^\n",
      "  File \"/opt/anaconda3/lib/python3.12/site-packages/ultralytics/engine/predictor.py\", line 177, in predict_cli\n",
      "    for _ in gen:  # noqa, running CLI inference without accumulating any outputs (do not modify)\n",
      "  File \"/opt/anaconda3/lib/python3.12/site-packages/torch/utils/_contextlib.py\", line 36, in generator_context\n",
      "    response = gen.send(None)\n",
      "               ^^^^^^^^^^^^^^\n",
      "  File \"/opt/anaconda3/lib/python3.12/site-packages/ultralytics/engine/predictor.py\", line 220, in stream_inference\n",
      "    self.setup_source(source if source is not None else self.args.source)\n",
      "  File \"/opt/anaconda3/lib/python3.12/site-packages/ultralytics/engine/predictor.py\", line 192, in setup_source\n",
      "    self.dataset = load_inference_source(\n",
      "                   ^^^^^^^^^^^^^^^^^^^^^^\n",
      "  File \"/opt/anaconda3/lib/python3.12/site-packages/ultralytics/data/build.py\", line 181, in load_inference_source\n",
      "    dataset = LoadImagesAndVideos(source, batch=batch, vid_stride=vid_stride)\n",
      "              ^^^^^^^^^^^^^^^^^^^^^^^^^^^^^^^^^^^^^^^^^^^^^^^^^^^^^^^^^^^^^^^\n",
      "  File \"/opt/anaconda3/lib/python3.12/site-packages/ultralytics/data/loaders.py\", line 292, in __init__\n",
      "    raise FileNotFoundError(f\"{p} does not exist\")\n",
      "FileNotFoundError: b.mp4 does not exist\n"
     ]
    }
   ],
   "source": [
    "!yolo task=detect mode=predict conf=0.25 save=True model=runs/detect/train7/weights/best.pt source=b.mp4"
   ]
  },
  {
   "cell_type": "code",
   "execution_count": 13,
   "id": "a03f6ea4-c278-40e7-940a-a19495e9adc7",
   "metadata": {},
   "outputs": [
    {
     "name": "stdout",
     "output_type": "stream",
     "text": [
      "Current working directory: /Users/samansiddiqui/Desktop/yolov10/yolov10\n"
     ]
    }
   ],
   "source": [
    "import os\n",
    "\n",
    "print(\"Current working directory:\", os.getcwd())\n"
   ]
  },
  {
   "cell_type": "code",
   "execution_count": null,
   "id": "6c9810dd-aeb6-45c5-bba5-77e6c3dd9df6",
   "metadata": {},
   "outputs": [],
   "source": []
  }
 ],
 "metadata": {
  "kernelspec": {
   "display_name": "Python 3 (ipykernel)",
   "language": "python",
   "name": "python3"
  },
  "language_info": {
   "codemirror_mode": {
    "name": "ipython",
    "version": 3
   },
   "file_extension": ".py",
   "mimetype": "text/x-python",
   "name": "python",
   "nbconvert_exporter": "python",
   "pygments_lexer": "ipython3",
   "version": "3.12.2"
  }
 },
 "nbformat": 4,
 "nbformat_minor": 5
}
